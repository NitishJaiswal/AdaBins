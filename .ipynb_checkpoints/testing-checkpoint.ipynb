{
 "cells": [
  {
   "cell_type": "code",
   "execution_count": null,
   "metadata": {},
   "outputs": [],
   "source": [
    "from PIL import Image\n",
    "from infer import InferenceHelper\n",
    "from matplotlib import pyplot as plt\n",
    "\n",
    "infer_helper = InferenceHelper(dataset='nyu')"
   ]
  },
  {
   "cell_type": "code",
   "execution_count": null,
   "metadata": {},
   "outputs": [],
   "source": [
    "# predict depth of a single pillow image\n",
    "img = Image.open(\"Data/ILCE_QX1_L/DSC01583.JPG\")  # any rgb pillow image\n",
    "bin_centers, predicted_depth = infer_helper.predict_pil(img)"
   ]
  },
  {
   "cell_type": "code",
   "execution_count": null,
   "metadata": {},
   "outputs": [],
   "source": [
    "print(predicted_depth)\n",
    "plt.matshow(predicted_depth.squeeze())\n",
    "plt.show()"
   ]
  },
  {
   "cell_type": "code",
   "execution_count": null,
   "metadata": {},
   "outputs": [],
   "source": [
    "# predict depths of images stored in a directory and store the predictions in 16-bit format in a given separate dir\n",
    "#infer_helper.predict_dir(\"test_imgs\", \"test_imgs_results\")"
   ]
  }
 ],
 "metadata": {
  "kernelspec": {
   "display_name": "Python 3",
   "language": "python",
   "name": "python3"
  },
  "language_info": {
   "codemirror_mode": {
    "name": "ipython",
    "version": 3
   },
   "file_extension": ".py",
   "mimetype": "text/x-python",
   "name": "python",
   "nbconvert_exporter": "python",
   "pygments_lexer": "ipython3",
   "version": "3.8.5"
  }
 },
 "nbformat": 4,
 "nbformat_minor": 4
}
